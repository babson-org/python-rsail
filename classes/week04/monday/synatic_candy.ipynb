{
 "cells": [
  {
   "cell_type": "markdown",
   "id": "0",
   "metadata": {},
   "source": [
    "# Python Syntactic Sugar (a.k.a. Syntactic Candy)\n",
    "\n",
    "Python has many little language features that make code shorter, cleaner, and more expressive. These don’t add new *capabilities* to the language but provide a more elegant way to express things.\n",
    "\n",
    "This lesson will cover:\n",
    "- The Ternary Operator\n",
    "- Multiple Assignment and Value Swapping\n",
    "- Generators\n",
    "- Comprehensions (list, set, dict, generator)\n",
    "- Advanced Comprehensions (filters, nested loops, nested structures)\n",
    "- Using `join()` with comprehensions"
   ]
  },
  {
   "cell_type": "markdown",
   "id": "1",
   "metadata": {},
   "source": [
    "## 1. The Ternary Operator\n",
    "\n",
    "Normally we use an `if/else` block to decide a value:"
   ]
  },
  {
   "cell_type": "code",
   "execution_count": null,
   "id": "2",
   "metadata": {},
   "outputs": [],
   "source": [
    "age = 20\n",
    "if age >= 18:\n",
    "    status = 'adult'\n",
    "else:\n",
    "    status = 'minor'\n",
    "print(status)"
   ]
  },
  {
   "cell_type": "markdown",
   "id": "3",
   "metadata": {},
   "source": [
    "Python provides a *ternary operator* (a one-line conditional expression):"
   ]
  },
  {
   "cell_type": "code",
   "execution_count": null,
   "id": "4",
   "metadata": {},
   "outputs": [],
   "source": [
    "age = 20\n",
    "status = 'adult' if age >= 18 else 'minor'\n",
    "print(status)"
   ]
  },
  {
   "cell_type": "markdown",
   "id": "5",
   "metadata": {},
   "source": [
    "## 2. Multiple Assignment and Swapping Values\n",
    "\n",
    "### The long way:"
   ]
  },
  {
   "cell_type": "code",
   "execution_count": null,
   "id": "6",
   "metadata": {},
   "outputs": [],
   "source": [
    "x = 7\n",
    "y = 5\n",
    "print(x, y)\n",
    "\n",
    "temp = x\n",
    "x = y\n",
    "y = temp\n",
    "print(x, y)"
   ]
  },
  {
   "cell_type": "markdown",
   "id": "7",
   "metadata": {},
   "source": [
    "### The Pythonic way (tuple unpacking):"
   ]
  },
  {
   "cell_type": "code",
   "execution_count": null,
   "id": "8",
   "metadata": {},
   "outputs": [],
   "source": [
    "x, y = 7, 5\n",
    "print(x, y)\n",
    "\n",
    "x, y = y, x\n",
    "print(x, y)"
   ]
  },
  {
   "cell_type": "markdown",
   "id": "9",
   "metadata": {},
   "source": [
    "## 3. Generators\n",
    "\n",
    "A **generator** is a special kind of function that *pauses* when it reaches a `yield`, and resumes when the next value is requested.\n",
    "\n",
    "- Saves memory: doesn’t build the whole list in advance\n",
    "- Produces values one at a time\n",
    "- Good for large or infinite sequences"
   ]
  },
  {
   "cell_type": "code",
   "execution_count": null,
   "id": "10",
   "metadata": {},
   "outputs": [],
   "source": [
    "def countdown(n):\n",
    "    while n > 0:\n",
    "        yield n\n",
    "        n -= 1\n",
    "\n",
    "gen = countdown(5)\n",
    "\n",
    "# we can get the next value with next()\n",
    "print(next(gen))\n",
    "print()\n",
    "\n",
    "#for loop on a generator calls next()\n",
    "for value in gen:\n",
    "    print(value)\n",
    "print()\n",
    "\n",
    "# generators get consumed or 'exhausted'\n",
    "\n",
    "for value in gen:\n",
    "    print(value)\n",
    "\n",
    "# reset generator\n",
    "gen = countdown(5)\n",
    "\n",
    "for value in gen:\n",
    "    print(value)\n",
    "\n",
    "# what happens if you use next() on spent generator\n",
    "# print(next(gen))\n",
    "\n",
    "\n",
    "while True:\n",
    "    try:\n",
    "        val = next(gen)   # try to get the next value\n",
    "        print(val)\n",
    "    except StopIteration:\n",
    "        print(\"Generator is spent!\")\n",
    "        break\n",
    "\n",
    "\n"
   ]
  },
  {
   "cell_type": "markdown",
   "id": "11",
   "metadata": {},
   "source": [
    "## 4. Comprehensions\n",
    "\n",
    "Comprehensions are compact ways of creating collections from iterables.\n",
    "\n",
    "- All comprehensions must be inside one of: `[]`, `{}`, or `()`\n",
    "- `[]` → list comprehension\n",
    "- `{}` → set or dict comprehension\n",
    "- `()` → generator expression (use `tuple()` if you want a tuple)"
   ]
  },
  {
   "cell_type": "code",
   "execution_count": null,
   "id": "12",
   "metadata": {},
   "outputs": [],
   "source": [
    "my_list = [i for i in range(10)]\n",
    "print(my_list)\n",
    "\n",
    "new_list = [0,0,1,1,2,2,3,3,4,4,5,5,6,6,7,7,8,8,9,9]\n",
    "my_set = {i for i in new_list}\n",
    "print(my_set)\n",
    "\n",
    "my_dict = {i: i**2 for i in range(10)}\n",
    "print(my_dict)"
   ]
  },
  {
   "cell_type": "markdown",
   "id": "13",
   "metadata": {},
   "source": [
    "### Comprehension with filter"
   ]
  },
  {
   "cell_type": "code",
   "execution_count": null,
   "id": "14",
   "metadata": {},
   "outputs": [],
   "source": [
    "[print(i) for i in range(10) if i % 2 == 0]"
   ]
  },
  {
   "cell_type": "markdown",
   "id": "15",
   "metadata": {},
   "source": [
    "## 5. Multiple Loops in Comprehensions\n",
    "\n",
    "### Standard nested loops:"
   ]
  },
  {
   "cell_type": "code",
   "execution_count": null,
   "id": "16",
   "metadata": {},
   "outputs": [],
   "source": [
    "for i in range(3):\n",
    "    for j in range(4):\n",
    "        print(f\"{i}{j}\")"
   ]
  },
  {
   "cell_type": "markdown",
   "id": "17",
   "metadata": {},
   "source": [
    "### Flattened into one comprehension:"
   ]
  },
  {
   "cell_type": "code",
   "execution_count": null,
   "id": "18",
   "metadata": {},
   "outputs": [],
   "source": [
    "[print(f'{i}{j}') for i in range(3) for j in range(4)]"
   ]
  },
  {
   "cell_type": "markdown",
   "id": "19",
   "metadata": {},
   "source": [
    "### With multiple filters"
   ]
  },
  {
   "cell_type": "code",
   "execution_count": null,
   "id": "20",
   "metadata": {},
   "outputs": [],
   "source": [
    "[print(f'{i}{j}') for i in range(3) if i % 2 == 0 for j in range(4) if j % 2 == 1]"
   ]
  },
  {
   "cell_type": "markdown",
   "id": "21",
   "metadata": {},
   "source": [
    "## 6. Nested Comprehensions\n",
    "\n",
    "Difference between flat and nested:\n",
    "\n",
    "- **Flat comprehension**: outer loop is on the left\n",
    "- **Nested comprehension**: inner structure is preserved (e.g., list of lists)"
   ]
  },
  {
   "cell_type": "code",
   "execution_count": null,
   "id": "22",
   "metadata": {},
   "outputs": [],
   "source": [
    "# Flat\n",
    "[print(f'{i}{j}') for i in range(3) for j in range(4)]\n",
    "\n",
    "# Nested: list of lists\n",
    "[[print(f'{i}{j}') for i in range(3)] for j in range(4)]"
   ]
  },
  {
   "cell_type": "markdown",
   "id": "23",
   "metadata": {},
   "source": [
    "### Nested with filters"
   ]
  },
  {
   "cell_type": "code",
   "execution_count": null,
   "id": "24",
   "metadata": {},
   "outputs": [],
   "source": [
    "[[print(f'{i}{j}') for i in range(3) if i % 2 == 0] for j in range(4) if j % 2 == 1]"
   ]
  },
  {
   "cell_type": "markdown",
   "id": "25",
   "metadata": {},
   "source": [
    "### More useful: building data structures\n",
    "\n",
    "List of lists:"
   ]
  },
  {
   "cell_type": "code",
   "execution_count": null,
   "id": "26",
   "metadata": {},
   "outputs": [],
   "source": [
    "rows = [[f\"{i}{j}\" for j in range(4)] for i in range(3)]\n",
    "for row in rows:\n",
    "    print(row)\n",
    "print(rows)\n",
    "\n",
    "print()\n",
    "\n",
    "rows = [f\"{i}{j}\" for j in range(4) for i in range(3)]\n",
    "print(rows)"
   ]
  },
  {
   "cell_type": "markdown",
   "id": "27",
   "metadata": {},
   "source": [
    "Or list of tuples (using a generator inside tuple()):"
   ]
  },
  {
   "cell_type": "code",
   "execution_count": null,
   "id": "28",
   "metadata": {},
   "outputs": [],
   "source": [
    "rows = [tuple(f\"{i}{j}\" for j in range(4)) for i in range(3)]\n",
    "for row in rows:\n",
    "    print(row)\n",
    "\n",
    "print(rows)"
   ]
  },
  {
   "cell_type": "markdown",
   "id": "29",
   "metadata": {},
   "source": [
    "## 7. Using `join()` with Comprehensions\n",
    "\n",
    "Often we want to combine items into a string. `join()` is perfect for this."
   ]
  },
  {
   "cell_type": "code",
   "execution_count": null,
   "id": "30",
   "metadata": {},
   "outputs": [],
   "source": [
    "ml = ['a', 1, 'c']\n",
    "s = ''.join(str(item) for item in ml)\n",
    "print(s)"
   ]
  }
 ],
 "metadata": {
  "kernelspec": {
   "display_name": "venv",
   "language": "python",
   "name": "python3"
  },
  "language_info": {
   "codemirror_mode": {
    "name": "ipython",
    "version": 3
   },
   "file_extension": ".py",
   "mimetype": "text/x-python",
   "name": "python",
   "nbconvert_exporter": "python",
   "pygments_lexer": "ipython3",
   "version": "3.10.18"
  }
 },
 "nbformat": 4,
 "nbformat_minor": 5
}
