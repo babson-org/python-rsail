{
 "cells": [
  {
   "cell_type": "markdown",
   "metadata": {},
   "source": [
    "# 🧪 Lab 1 Reinforcement Exercises\n",
    "These exercises build on Lab 1 concepts: input handling, string manipulation, control flow, and basic algorithms.\n",
    "Each problem includes a full description and a code cell for your solution."
   ]
  },
  {
   "cell_type": "markdown",
   "metadata": {},
   "source": [
    "## 🟩 Exercise 25: Vowel and Consonant Counter\n",
    "**Problem:** Ask the user for a block of text. Count and display the number of vowels and consonants. Ignore non-letter characters.\n",
    "\n",
    "**Input:**\n",
    "- A string of text\n",
    "\n",
    "**Output:**\n",
    "- Number of vowels\n",
    "- Number of consonants"
   ]
  },
  {
   "cell_type": "code",
   "execution_count": null,
   "metadata": {},
   "outputs": [],
   "source": [
    "txt = input('Please enter some text: ')\n",
    "vowels = 0\n",
    "consonants = 0\n",
    "for c in txt:\n",
    "    if c.isalpha() :\n",
    "        if c in 'aeiouAEIOU':\n",
    "            vowels += 1\n",
    "        else:\n",
    "            consonants += 1\n",
    "print(txt)\n",
    "print(f'The number of vowels is {vowels} and the number of consonants is {consonants}')\n",
    "\n"
   ]
  },
  {
   "cell_type": "markdown",
   "metadata": {},
   "source": [
    "## 🟩 Exercise 26: Longest Word Finder\n",
    "**Problem:** Ask the user for a sentence. Identify and print the longest word. Strip punctuation from words before comparing lengths.\n",
    "\n",
    "**Input:**\n",
    "- A sentence with words and punctuation\n",
    "\n",
    "**Output:**\n",
    "- The longest word (punctuation removed)"
   ]
  },
  {
   "cell_type": "code",
   "execution_count": null,
   "metadata": {},
   "outputs": [],
   "source": [
    "txt = input('Please enter some text: ')\n",
    "new_txt = ''\n",
    "for c in txt:\n",
    "    if c.isalpha() or c == ' ':\n",
    "        new_txt += c\n",
    "\n",
    "txt_list = new_txt.split()\n",
    "max_len = 0\n",
    "idx_max = None\n",
    "\n",
    "for idx, item in enumerate(txt_list):\n",
    "    length = len(item)\n",
    "    if length > max_len:\n",
    "        max_len = length\n",
    "        idx_max = idx\n",
    "\n",
    "print(f'the max length is {max_len} and the word is {txt_list[idx_max]}')\n",
    "\n",
    "while False:\n",
    "    '''\n",
    "    or you could do this:\n",
    "\n",
    "    txt = input(\"Please enter some text: \")\n",
    "\n",
    "    # Keep only letters and spaces\n",
    "    filtered = \"\".join(c for c in txt if c.isalpha() or c.isspace())\n",
    "\n",
    "    # Split into words\n",
    "    words = filtered.split()\n",
    "\n",
    "    # Find the longest word\n",
    "    if words:\n",
    "        longest = max(words, key=len)\n",
    "        print(f\"The max length is {len(longest)} and the word is '{longest}'\")\n",
    "    else:\n",
    "        print(\"No valid words entered.\")\n",
    "        \n",
    "    '''"
   ]
  },
  {
   "cell_type": "markdown",
   "metadata": {},
   "source": [
    "## 🟩 Exercise 27: Sentence Type Breakdown\n",
    "**Problem:** Ask the user for a block of text. Count how many sentences end with `.`, `?`, and `!`. Display a breakdown of sentence types.\n",
    "\n",
    "**Input:**\n",
    "- A block of text\n",
    "\n",
    "**Output:**\n",
    "- Total number of sentences\n",
    "- Number of declarative (.), interrogative (?), and exclamatory (!) sentences"
   ]
  },
  {
   "cell_type": "code",
   "execution_count": null,
   "metadata": {},
   "outputs": [],
   "source": [
    "print(' Enter your block of text (end with a blank line);')\n",
    "\n",
    "lines = []\n",
    "while True:\n",
    "    line = input()\n",
    "    if line == '': break\n",
    "\n",
    "    lines.append(line)\n",
    "\n",
    "txt = '\\n'.join(str(line) for line in lines) #here we convert each item in lines to a string\n",
    "# or\n",
    "txt = '\\n'.join(lines)  #this is good if you know lines only contains strings\n",
    "\n",
    "periods = 0\n",
    "exclamations = 0\n",
    "questions = 0\n",
    "\n",
    "for c in txt:\n",
    "    if c == '.' : periods += 1\n",
    "    elif c == '!' : exclamations += 1\n",
    "    elif c == '?' : questions += 1\n",
    "\n",
    "print(f'Periods = {periods} \\nExclamations = {exclamations} \\nQuestions = {questions}')\n"
   ]
  },
  {
   "cell_type": "markdown",
   "metadata": {},
   "source": [
    "## Exercise 28: Caesar Cipher Key Finder\n",
    "\n",
    "Objective: Write a program to decode a message when the key is unknown, using reasoning instead of trying all shifts.\n",
    "\n",
    "Scenario:\n",
    "-    You receive an encrypted message:\n",
    "-    Encrypted message: 'KHOOR ZRUOG'\n",
    "-    Hint: The first word is 'HELLO'\n",
    "  \n",
    "  Tasks:\n",
    "-    Identify the shift key\n",
    "-    Use the hint ('HELLO') to determine the number of positions the letters were shifted.\n",
    "-    Think: 'H' ? 'K', what shift was applied?\n",
    "-    Decode the full message\n",
    "-    Write a function decode_caesar(message, key) that takes the encrypted message and the key you found.\n",
    "-    Print the decrypted message."
   ]
  },
  {
   "cell_type": "code",
   "execution_count": null,
   "metadata": {},
   "outputs": [],
   "source": [
    " # H to K is a shift of 3\n",
    "import string\n",
    "alphabet = string.ascii_uppercase\n",
    "shifted_list =alphabet[3:] + alphabet[:3]\n",
    "\n",
    "\n",
    "msg = 'KHOOR ZRUOG'\n",
    "decode_msg = ''\n",
    "\n",
    "for c in msg:\n",
    "    idx = shifted_list.find(c)\n",
    "    if idx == -1:\n",
    "        decode_msg += c\n",
    "    else:\n",
    "        decode_msg += alphabet[idx]\n",
    "\n",
    "print(decode_msg)\n",
    "\n",
    "\n"
   ]
  }
 ],
 "metadata": {
  "kernelspec": {
   "display_name": "venv",
   "language": "python",
   "name": "python3"
  },
  "language_info": {
   "codemirror_mode": {
    "name": "ipython",
    "version": 3
   },
   "file_extension": ".py",
   "mimetype": "text/x-python",
   "name": "python",
   "nbconvert_exporter": "python",
   "pygments_lexer": "ipython3",
   "version": "3.10.18"
  }
 },
 "nbformat": 4,
 "nbformat_minor": 2
}
