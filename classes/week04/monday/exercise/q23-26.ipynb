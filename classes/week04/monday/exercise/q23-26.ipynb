{
  "cells": [
    {
      "cell_type": "markdown",
      "metadata": {},
      "source": [
        "# 🧪 Lab 1 Reinforcement Exercises\n",
        "These exercises build on Lab 1 concepts: input handling, string manipulation, control flow, and basic algorithms.\n",
        "Each problem includes a full description and a code cell for your solution."
      ]
    },    
    {
      "cell_type": "markdown",
      "metadata": {},
      "source": [
        "## 🟩 Exercise 25: Vowel and Consonant Counter\n",
        "**Problem:** Ask the user for a block of text. Count and display the number of vowels and consonants. Ignore non-letter characters.\n",
        "\n",
        "**Input:**\n",
        "- A string of text\n",
        "\n",
        "**Output:**\n",
        "- Number of vowels\n",
        "- Number of consonants"
      ]
    },
    {
      "cell_type": "code",
      "execution_count": null,
      "metadata": {},
      "outputs": [],
      "source": []
    },
    {
      "cell_type": "markdown",
      "metadata": {},
      "source": [
        "## 🟩 Exercise 26: Longest Word Finder\n",
        "**Problem:** Ask the user for a sentence. Identify and print the longest word. Strip punctuation from words before comparing lengths.\n",
        "\n",
        "**Input:**\n",
        "- A sentence with words and punctuation\n",
        "\n",
        "**Output:**\n",
        "- The longest word (punctuation removed)"
      ]
    },
    {
      "cell_type": "code",
      "execution_count": null,
      "metadata": {},
      "outputs": [],
      "source": []
    },
    {
      "cell_type": "markdown",
      "metadata": {},
      "source": [
        "## 🟩 Exercise 27: Sentence Type Breakdown\n",
        "**Problem:** Ask the user for a block of text. Count how many sentences end with `.`, `?`, and `!`. Display a breakdown of sentence types.\n",
        "\n",
        "**Input:**\n",
        "- A block of text\n",
        "\n",
        "**Output:**\n",
        "- Total number of sentences\n",
        "- Number of declarative (.), interrogative (?), and exclamatory (!) sentences"
      ]
    },
    {
      "cell_type": "code",
      "execution_count": null,
      "metadata": {},
      "outputs": [],
      "source": []
    },
    {
      "cell_type": "markdown",
      "metadata": {},
      "source": [
        "## Exercise 28: Caesar Cipher Key Finder\n\n",
        "Objective: Write a program to decode a message when the key is unknown, using reasoning instead of trying all shifts.\n\n",
        "Scenario:\n",
        "-    You receive an encrypted message:\n",
        "-    Encrypted message: 'KHOOR ZRUOG'\n",
        "-    Hint: The first word is 'HELLO'\n",
        "  \n  ",
        "Tasks:\n",
        "-    Identify the shift key\n",
        "-    Use the hint ('HELLO') to determine the number of positions the letters were shifted.\n",
        "-    Think: 'H' ? 'K', what shift was applied?\n",
        "-    Decode the full message\n",
        "-    Write a function decode_caesar(message, key) that takes the encrypted message and the key you found.\n",
        "-    Print the decrypted message."
      ]
    },
    {
      "cell_type": "code",
      "execution_count": null,
      "metadata": {},
      "outputs": [],
      "source": []
    }
  ],
  "metadata": {
    "kernelspec": {
      "display_name": "venv",
      "language": "python",
      "name": "python3"
    },
    "language_info": {
      "name": "python",
      "version": "3.10.18"
    }
  },
  "nbformat": 4,
  "nbformat_minor": 2
} 
