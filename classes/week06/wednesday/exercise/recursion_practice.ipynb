{
 "cells": [
  {
   "cell_type": "markdown",
   "id": "eff0fbfb",
   "metadata": {},
   "source": [
    "# 🧩 Recursion Practice Problems\n",
    "These exercises give you hands-on practice with recursion in Python.\n",
    "Each problem includes a short description followed by an empty code block — fill in your own solution!"
   ]
  },
  {
   "cell_type": "markdown",
   "id": "80791047",
   "metadata": {},
   "source": [
    "## 1️⃣ Reverse a String\n",
    "Write a recursive function `reverse(s)` that returns the reverse of a string."
   ]
  },
  {
   "cell_type": "code",
   "execution_count": null,
   "id": "2",
   "metadata": {},
   "outputs": [],
   "source": [
    "# TODO: Implement reverse(s)\n"
   ]
  },
  {
   "cell_type": "code",
   "execution_count": null,
   "id": "839523d5",
   "metadata": {},
   "outputs": [],
   "source": []
  },
  {
   "cell_type": "markdown",
   "id": "b438b95c",
   "metadata": {},
   "source": [
    "## 2️⃣ Palindrome Check\n",
    "Write a recursive function `is_palindrome(s)` that returns `True` if the string reads the same forward and backward."
   ]
  },
  {
   "cell_type": "code",
   "execution_count": null,
   "id": "4",
   "metadata": {},
   "outputs": [],
   "source": [
    "# TODO: Implement is_palindrome(s)\n"
   ]
  },
  {
   "cell_type": "markdown",
   "id": "096f6e39",
   "metadata": {},
   "source": [
    "## 3️⃣ Count Occurrences\n",
    "Write a recursive function `count_occurrences(lst, target)` that counts how many times `target` appears in the list."
   ]
  },
  {
   "cell_type": "code",
   "execution_count": null,
   "id": "6",
   "metadata": {},
   "outputs": [],
   "source": [
    "# TODO: Implement count_occurrences(lst, target)\n"
   ]
  },
  {
   "cell_type": "markdown",
   "id": "c3eac5bf",
   "metadata": {},
   "source": [
    "## 4️⃣ Sum of Digits\n",
    "Write a recursive function `sum_digits(n)` that returns the sum of the digits of a non-negative integer."
   ]
  },
  {
   "cell_type": "code",
   "execution_count": null,
   "id": "8",
   "metadata": {},
   "outputs": [],
   "source": [
    "# TODO: Implement sum_digits(n)\n",
    "def sod(n):\n",
    "    total = 0\n",
    "    if n == 0: return 0\n",
    "    else: return n % 10 + sod(n // 10)\n",
    "\n",
    "print(sod(123))"
   ]
  },
  {
   "cell_type": "markdown",
   "id": "6558c87b",
   "metadata": {},
   "source": [
    "## 5️⃣ Power Function\n",
    "Write a recursive function `power(a, b)` that returns a to the power of b (a^b)."
   ]
  },
  {
   "cell_type": "code",
   "execution_count": null,
   "id": "10",
   "metadata": {},
   "outputs": [],
   "source": [
    "# TODO: Implement power(a, b)\n"
   ]
  },
  {
   "cell_type": "markdown",
   "id": "ae684e33",
   "metadata": {},
   "source": [
    "## 6️⃣ Find Maximum in a List\n",
    "Write a recursive function `find_max(lst)` that returns the largest element in the list.\n",
    "You may use an index parameter to avoid slicing."
   ]
  },
  {
   "cell_type": "code",
   "execution_count": null,
   "id": "12",
   "metadata": {},
   "outputs": [],
   "source": [
    "# TODO: Implement find_max(lst)\n"
   ]
  },
  {
   "cell_type": "markdown",
   "id": "24c21f1a",
   "metadata": {},
   "source": [
    "## 7️⃣ Product of Elements in a List\n",
    "Write a recursive function `product(lst)` that returns the product of all elements in a list.\n",
    "Return 1 for an empty list."
   ]
  },
  {
   "cell_type": "code",
   "execution_count": null,
   "id": "14",
   "metadata": {},
   "outputs": [],
   "source": [
    "def prod(lst):\n",
    "\n",
    "    if len(lst) == 0: return 1\n",
    "    else: return lst[0] * prod(lst[1:])\n",
    "\n",
    "print(prod([1,2,3]))"
   ]
  },
  {
   "cell_type": "markdown",
   "id": "10ff5354",
   "metadata": {},
   "source": [
    "## 8️⃣ Flatten a Nested List\n",
    "Write a recursive function `flatten(lst)` that takes a nested list and returns a single flat list.\n",
    "Example: `[1, [2, [3, 4]], 5] → [1, 2, 3, 4, 5]`"
   ]
  },
  {
   "cell_type": "code",
   "execution_count": null,
   "id": "16",
   "metadata": {},
   "outputs": [],
   "source": [
    "def flat(myLst):\n",
    "\n",
    "    flat_list = []\n",
    "    \n",
    "    for element in myLst:\n",
    "        if isinstance(element, list):\n",
    "            flat_list += flat(element)\n",
    "        else:\n",
    "            flat_list.append(element)\n",
    "    return flat_list\n",
    "\n",
    "\n",
    "   \n",
    "\n",
    "print(flat([1, [2, [3, 4]], 5] ))\n",
    "\n",
    "'''\n",
    "flat([1, [2, [3, 4]], 5])\n",
    "│\n",
    "├── sees 1 → append → [1]\n",
    "│\n",
    "├── sees [2, [3, 4]] → call flat([2, [3, 4]])\n",
    "│     ├── sees 2 → [2]\n",
    "│     ├── sees [3, 4] → call flat([3, 4])\n",
    "│     │     ├── [3, 4] → return [3, 4]\n",
    "│     │\n",
    "│     └── combine → [2, 3, 4] → return\n",
    "│\n",
    "├── combine → [1, 2, 3, 4]\n",
    "│\n",
    "└── sees 5 → append → [1, 2, 3, 4, 5]\n",
    "\n",
    "\n",
    "'''\n",
    "\n"
   ]
  },
  {
   "cell_type": "markdown",
   "id": "081abef6",
   "metadata": {},
   "source": [
    "## 9️⃣ Print Numbers in Binary\n",
    "Write a recursive function `to_binary(n)` that prints the binary representation of a non-negative integer."
   ]
  },
  {
   "cell_type": "code",
   "execution_count": null,
   "id": "18",
   "metadata": {},
   "outputs": [],
   "source": [
    "# TODO: Implement to_binary(n)\n",
    "\n",
    "def binary(n):\n",
    "    if n == 0:\n",
    "        return\n",
    "    else:\n",
    "        binary(n // 2)\n",
    "        print(n % 2, end='')\n",
    "print(binary(13))"
   ]
  },
  {
   "cell_type": "markdown",
   "id": "8d6a5c90",
   "metadata": {},
   "source": [
    "## 10. Draw a Triangle of Stars\n",
    "\n",
    "Write a recursive function `triangle(n)` that prints a right-angled triangle with `n` rows of `*`.\n",
    "\n",
    "Example for n=4:\n",
    "```\n",
    "*\n",
    "**\n",
    "***\n",
    "****\n",
    "```\n"
   ]
  },
  {
   "cell_type": "code",
   "execution_count": null,
   "id": "a6d8a3f5",
   "metadata": {},
   "outputs": [],
   "source": [
    "# TODO: Implement triangle(n, start = 1)\n",
    "def triangle1(n):\n",
    "\n",
    "    if n == 0: return\n",
    "    else:\n",
    "        triangle1(n - 1)\n",
    "        print('*' * n)\n",
    "        \n",
    "'''\n",
    "print('****')\n",
    "    └─ print('***')\n",
    "        └─ print('**')\n",
    "            └─ print('*')\n",
    "                └─ triangle1(0) → return\n",
    "            └─ triangle1(1)\n",
    "        └─ triangle1(2)\n",
    "    └─ triangle1(3)\n",
    "└─ triangle1(4)\n",
    "-------------------------------------------\n",
    "\n",
    "\n",
    "'''\n",
    "\n",
    "\n",
    "\n",
    "\n",
    "# Test your function\n",
    "triangle1(4)\n",
    "\n",
    "# TODO: Implement triangle(n, start = 1)\n",
    "def triangle1(n, start = 1):\n",
    "\n",
    "    if n == 0: return\n",
    "    else:\n",
    "        print(\"*\" * start)\n",
    "        start += 1\n",
    "        return triangle1(n  - 1, start)   # return optional\n",
    "        \n",
    "        \n",
    "    \n",
    "\n",
    "# Test your function\n",
    "triangle1(4)\n",
    "\n",
    "''' \n",
    "                └─ triangle1(0, 5) → return\n",
    "            └─ print('****')\n",
    "            └─ triangle1(1, 4)\n",
    "        └─ print('***')\n",
    "        └─ triangle1(2, 3)\n",
    "    └─ print('**')\n",
    "    └─ triangle1(3, 2)\n",
    "└─ print('*')\n",
    "└─ triangle1(4, 1)\n",
    "-----------------------------------------------\n",
    "\n",
    "\n",
    "'''\n"
   ]
  }
 ],
 "metadata": {
  "kernelspec": {
   "display_name": "venv",
   "language": "python",
   "name": "python3"
  },
  "language_info": {
   "codemirror_mode": {
    "name": "ipython",
    "version": 3
   },
   "file_extension": ".py",
   "mimetype": "text/x-python",
   "name": "python",
   "nbconvert_exporter": "python",
   "pygments_lexer": "ipython3",
   "version": "3.10.18"
  }
 },
 "nbformat": 4,
 "nbformat_minor": 5
}
