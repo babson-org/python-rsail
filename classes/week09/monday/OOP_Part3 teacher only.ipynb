{
  "cells": [
    {
      "cell_type": "markdown",
      "id": "de4a8e8f",
      "metadata": {},
      "source": [
        "# 🧠 OOP Part 3: Inheritance, `super()`, and Polymorphism\n",
        "### From eye color to class hierarchies — reuse and extend behavior\n",
        "---\n",
        "In this lesson we build intuition for **inheritance** using a real-life analogy (eye color), then move into Python classes:\n",
        "- How subclasses inherit data and behavior\n",
        "- What happens with/without a subclass `__init__` (and what arguments you must pass)\n",
        "- Why and how to call `super()` (formal definition included)\n",
        "- Method overriding and extending behavior\n",
        "- **Polymorphism** (formal definition) — one interface, many behaviors\n",
        "- Multi-level inheritance (grandparent → parent → child), including calling parent & grandparent\n",
        "- Hands-on exercises after each concept"
      ]
    },
    {
      "cell_type": "markdown",
      "id": "6055ef3d",
      "metadata": {},
      "source": [
        "## 👁️ 1. Where did you get your eye color?\n",
        "You likely **inherited** traits from your parents. In Python, classes can do the same: a **child class** (*subclass*) can inherit data (attributes) and behavior (methods) from a **parent class** (*superclass*).\n",
        "\n",
        "**Vocabulary**\n",
        "- **Superclass / Parent**: the class being inherited from\n",
        "- **Subclass / Child**: the class that inherits\n",
        "- **Inheritance**: the mechanism by which subclasses reuse parent code\n",
        "\n",
        "We’ll start simple and layer in details gradually."
      ]
    },
    {
      "cell_type": "markdown",
      "id": "72c30918",
      "metadata": {},
      "source": [
        "## 2. Inheriting behavior with no changes\n",
        "A subclass automatically has its parent’s methods and attributes (unless it overrides them)."
      ]
    },
    {
      "cell_type": "code",
      "execution_count": null,
      "id": "4f183f37",
      "metadata": {},
      "outputs": [],
      "source": [
        "class Parent:\n",
        "    def speak(self):\n",
        "        print(\"I am the parent.\")\n",
        "\n",
        "class Child(Parent):\n",
        "    pass  # inherits speak() as-is\n",
        "\n",
        "c = Child()\n",
        "c.speak()  # ✅ inherited method"
      ]
    },
    {
      "cell_type": "markdown",
      "id": "cd59948f",
      "metadata": {},
      "source": [
        "### ✏️ Exercise 1 — Your family tree\n",
        "Create a class `Person` with `__init__(self, name)` and a method `introduce()` that prints the name. Then create `Student(Person)` that doesn’t add anything new. Confirm `Student(\"Alice\").introduce()` works (inherited behavior)."
      ]
    },
    {
      "cell_type": "code",
      "execution_count": null,
      "id": "c905d1bb",
      "metadata": {},
      "outputs": [],
      "source": [
        "# TODO: Implement Person and Student (no custom __init__ in Student)\n",
        "class Person:\n",
        "    def __init__(self, name):\n",
        "        self.name = name\n",
        "    def introduce(self):\n",
        "        print(f\"Hi, I'm {self.name}.\")\n",
        "\n",
        "class Student(Person):\n",
        "    pass\n",
        "\n",
        "# Uncomment to test\n",
        "# s = Student(\"Alice\")\n",
        "# s.introduce()"
      ]
    },
    {
      "cell_type": "markdown",
      "id": "3ea31480",
      "metadata": {},
      "source": [
        "## 3. Constructors and arguments — how `__init__` behaves\n",
        "When we instantiate a subclass, which constructor runs? It depends:\n",
        "\n",
        "| Situation | What happens | Rule for creating the object |\n",
        "|---|---|---|\n",
        "| Subclass **has no** `__init__` | The parent’s `__init__` is used automatically | You must pass **all arguments required by the parent** |\n",
        "| Subclass **defines its own** `__init__` | The parent’s `__init__` is **not called automatically** | You must call `super().__init__(...)` to initialize parent state, and your subclass **may require additional args** |\n",
        "\n",
        "**Key takeaway:**\n",
        "- If a subclass *doesn’t* define `__init__`, you still need to pass the **parent’s constructor arguments** when creating the child.\n",
        "- If a subclass *does* define `__init__`, you typically need to pass **both the parent’s required args** (handled via `super().__init__`) **and any new subclass args**."
      ]
    },
    {
      "cell_type": "markdown",
      "id": "7f026bce",
      "metadata": {},
      "source": [
        "### 3A. Subclass **without** its own `__init__` (inherits parent constructor)\n",
        "Because `Student` doesn’t define `__init__`, it inherits `Person.__init__` and therefore expects the **same arguments** as the parent."
      ]
    },
    {
      "cell_type": "code",
      "execution_count": null,
      "id": "e614feee",
      "metadata": {},
      "outputs": [],
      "source": [
        "class Person:\n",
        "    def __init__(self, name):\n",
        "        self.name = name\n",
        "\n",
        "class Student(Person):\n",
        "    pass  # no __init__ -> uses Person.__init__\n",
        "\n",
        "s = Student(\"Alice\")  # must supply the parent's expected args\n",
        "print(s.name)  # ✅ 'Alice'"
      ]
    },
    {
      "cell_type": "markdown",
      "id": "2df92b99",
      "metadata": {},
      "source": [
        "### ✏️ Exercise 2 — Subclass without constructor\n",
        "Define `Vehicle(make, model)` and subclass `Car(Vehicle)` **without** an `__init__`. Create `Car(\"Toyota\", \"Camry\")` and print both attributes. Why does this work?"
      ]
    },
    {
      "cell_type": "code",
      "execution_count": null,
      "id": "40ad455f",
      "metadata": {},
      "outputs": [],
      "source": [
        "# TODO: Implement Vehicle and Car (no custom __init__ in Car)\n",
        "class Vehicle:\n",
        "    def __init__(self, make, model):\n",
        "        self.make = make\n",
        "        self.model = model\n",
        "\n",
        "class Car(Vehicle):\n",
        "    pass\n",
        "\n",
        "# Uncomment to test\n",
        "# c = Car(\"Toyota\", \"Camry\")\n",
        "# print(c.make, c.model)"
      ]
    },
    {
      "cell_type": "markdown",
      "id": "6cf96f81",
      "metadata": {},
      "source": [
        "### 3B. Subclass **with** its own `__init__` (must call `super()`)\n",
        "If a subclass defines its own constructor, it *replaces* the parent’s. To preserve parent initialization, you **must** call `super().__init__(...)` with the parent’s required args. You may also accept **additional** arguments specific to the subclass."
      ]
    },
    {
      "cell_type": "code",
      "execution_count": null,
      "id": "58e93da6",
      "metadata": {},
      "outputs": [],
      "source": [
        "class Person:\n",
        "    def __init__(self, name):\n",
        "        self.name = name\n",
        "\n",
        "class Student(Person):\n",
        "    def __init__(self, name, student_id):\n",
        "        super().__init__(name)   # initialize parent part\n",
        "        self.student_id = student_id  # initialize child part\n",
        "\n",
        "s = Student(\"Alice\", 1234)\n",
        "print(s.name, s.student_id)  # ✅ Alice 1234"
      ]
    },
    {
      "cell_type": "markdown",
      "id": "d2dcccf0",
      "metadata": {},
      "source": [
        "### ✏️ Exercise 3 — Custom constructor with `super()`\n",
        "Create `Book(title, author)` and subclass `Textbook(Book)` with an extra `subject`. Use `super().__init__(title, author)` in `Textbook.__init__`. Instantiate and print all three attributes to confirm it works as intended (parent + child args required at creation time)."
      ]
    },
    {
      "cell_type": "code",
      "execution_count": null,
      "id": "b8d8d779",
      "metadata": {},
      "outputs": [],
      "source": [
        "# TODO: Implement Book and Textbook using super().__init__\n",
        "class Book:\n",
        "    def __init__(self, title, author):\n",
        "        self.title = title\n",
        "        self.author = author\n",
        "\n",
        "class Textbook(Book):\n",
        "    def __init__(self, title, author, subject):\n",
        "        super().__init__(title, author)\n",
        "        self.subject = subject\n",
        "\n",
        "# Uncomment to test\n",
        "# t = Textbook(\"Intro to CS\", \"Ada\", \"Programming\")\n",
        "# print(t.title, t.author, t.subject)"
      ]
    },
    {
      "cell_type": "markdown",
      "id": "63ac34ae",
      "metadata": {},
      "source": [
        "## 4. Overriding methods — changing behavior in a subclass\n",
        "A subclass can **override** a method from its parent to provide class-specific behavior."
      ]
    },
    {
      "cell_type": "code",
      "execution_count": null,
      "id": "557acd3a",
      "metadata": {},
      "outputs": [],
      "source": [
        "class Animal:\n",
        "    def speak(self):\n",
        "        print(\"Some generic sound\")\n",
        "\n",
        "class Dog(Animal):\n",
        "    def speak(self):  # override\n",
        "        print(\"Woof!\")\n",
        "\n",
        "Animal().speak()\n",
        "Dog().speak()"
      ]
    },
    {
      "cell_type": "markdown",
      "id": "3f55d6f7",
      "metadata": {},
      "source": [
        "### ✏️ Exercise 4 — Override behavior\n",
        "Create `Shape` with `area()` that prints \"Area not defined.\" Then create `Square(Shape)` that overrides `area()` to compute side × side. Instantiate and test both to see different behavior under the same method name."
      ]
    },
    {
      "cell_type": "code",
      "execution_count": null,
      "id": "fe1efda8",
      "metadata": {},
      "outputs": [],
      "source": [
        "# TODO: Implement Shape and Square with overriding\n",
        "class Shape:\n",
        "    def area(self):\n",
        "        print(\"Area not defined.\")\n",
        "\n",
        "class Square(Shape):\n",
        "    def __init__(self, side):\n",
        "        self.side = side\n",
        "    def area(self):\n",
        "        print(self.side * self.side)\n",
        "\n",
        "# Uncomment to test\n",
        "# Shape().area()\n",
        "# Square(5).area()"
      ]
    },
    {
      "cell_type": "markdown",
      "id": "220e377c",
      "metadata": {},
      "source": [
        "## 5. Extending behavior — calling the parent method with `super()`\n",
        "Sometimes we don’t want to replace the parent’s behavior; we want to **add to it**. Use `super().method(...)` inside the override to call the parent version *and then* add subclass-specific logic."
      ]
    },
    {
      "cell_type": "code",
      "execution_count": 2,
      "id": "2fa8ae67",
      "metadata": {},
      "outputs": [
        {
          "name": "stdout",
          "output_type": "stream",
          "text": [
            "[LOG] 2025-10-26 14:32:14.233093: System started\n",
            "[TIM] (Message logged with timestamp)\n"
          ]
        }
      ],
      "source": [
        "class Logger:\n",
        "    def log(self, message):\n",
        "        print(f\"[LOG] {message}\")\n",
        "\n",
        "class TimestampedLogger(Logger):\n",
        "    def log(self, message):  # extend behavior\n",
        "        import datetime\n",
        "        super().log(f\"{datetime.datetime.now()}: {message}\")  # parent behavior\n",
        "        print(\"[TIM] (Message logged with timestamp)\")            # child behavior\n",
        "\n",
        "TimestampedLogger().log(\"System started\")"
      ]
    },
    {
      "cell_type": "markdown",
      "id": "b943e003",
      "metadata": {},
      "source": [
        "### ✏️ Exercise 5 — Combine parent + child behavior\n",
        "Create `BankAccount.withdraw(amount)` that prints new balance if funds exist, otherwise prints an error. Create `SavingsAccount(BankAccount)` that overrides `withdraw` and **calls `super().withdraw`**, then prints \"Interest recalculated\" after a successful withdrawal. Test both code paths (success and insufficient funds)."
      ]
    },
    {
      "cell_type": "code",
      "execution_count": 3,
      "id": "a764a915",
      "metadata": {},
      "outputs": [
        {
          "name": "stdout",
          "output_type": "stream",
          "text": [
            "Alice: $200 remaining\n",
            "Interest recalculated\n",
            "Alice: insufficient funds\n"
          ]
        }
      ],
      "source": [
        "# TODO: Implement BankAccount and SavingsAccount with super().withdraw\n",
        "class BankAccount:\n",
        "    def __init__(self, owner, balance=0):\n",
        "        self.owner = owner\n",
        "        self.balance = balance\n",
        "    def withdraw(self, amount):\n",
        "        if amount <= self.balance:\n",
        "            self.balance -= amount\n",
        "            print(f\"{self.owner}: ${self.balance} remaining\")\n",
        "            return True\n",
        "        else:\n",
        "            print(f\"{self.owner}: insufficient funds\")\n",
        "            return False\n",
        "\n",
        "class SavingsAccount(BankAccount):\n",
        "    def withdraw(self, amount):\n",
        "        if super().withdraw(amount):\n",
        "            print(\"Interest recalculated\")\n",
        "\n",
        "# Uncomment to test\n",
        "a = SavingsAccount(\"Alice\", 300)\n",
        "a.withdraw(100)\n",
        "a.withdraw(500)"
      ]
    },
    {
      "cell_type": "markdown",
      "id": "50b040ed",
      "metadata": {},
      "source": [
        "## 6. Formal definition — Polymorphism\n",
        "**Polymorphism** (\"many forms\") is the ability of different objects to respond to the **same operation** (method call or function) in a way that is **specific to their own class**. A single interface (method name) can have multiple implementations.\n",
        "\n",
        "**Why it matters**: You can write code that works over a *family* of types without caring about the concrete type at each step."
      ]
    },
    {
      "cell_type": "code",
      "execution_count": null,
      "id": "c4649947",
      "metadata": {},
      "outputs": [],
      "source": [
        "class Animal:\n",
        "    def speak(self):\n",
        "        print(\"Some generic sound\")\n",
        "\n",
        "class Dog(Animal):\n",
        "    def speak(self):\n",
        "        print(\"Woof!\")\n",
        "\n",
        "class Cat(Animal):\n",
        "    def speak(self):\n",
        "        print(\"Meow!\")\n",
        "\n",
        "animals = [Animal(), Dog(), Cat()]\n",
        "for a in animals:\n",
        "    a.speak()  # same message, different results"
      ]
    },
    {
      "cell_type": "markdown",
      "id": "028c3b04",
      "metadata": {},
      "source": [
        "### ✏️ Exercise 6 — Polymorphism practice\n",
        "Create `Rectangle`, `Circle`, and `Triangle`, each with an `area()` method. Store one of each in a list and loop: `for shape in shapes: print(shape.area())`. Do **not** type-check; rely on the shared interface (duck typing)."
      ]
    },
    {
      "cell_type": "code",
      "execution_count": null,
      "id": "b5af3dcc",
      "metadata": {},
      "outputs": [],
      "source": [
        "# TODO: Implement polymorphic area() methods\n",
        "import math\n",
        "\n",
        "class Rectangle:\n",
        "    def __init__(self, w, h):\n",
        "        self.w = w; self.h = h\n",
        "    def area(self):\n",
        "        return self.w * self.h\n",
        "\n",
        "class Circle:\n",
        "    def __init__(self, r):\n",
        "        self.r = r\n",
        "    def area(self):\n",
        "        return math.pi * self.r**2\n",
        "\n",
        "class Triangle:\n",
        "    def __init__(self, b, h):\n",
        "        self.b = b; self.h = h\n",
        "    def area(self):\n",
        "        return 0.5 * self.b * self.h\n",
        "\n",
        "# Uncomment to test\n",
        "# shapes = [Rectangle(3,4), Circle(2), Triangle(3,5)]\n",
        "# for s in shapes:\n",
        "#     print(round(s.area(), 2))\n",
        "\n",
        "#NOTE ABC abstract base case"
      ]
    },
    {
      "cell_type": "markdown",
      "id": "af333f92",
      "metadata": {},
      "source": [
        "## 7. Formal definition — `super()` and the MRO\n",
        "**Formal definition**: `super()` is a **built-in function** that returns a **temporary proxy object** bound to the current instance and class context. It enables calling the **next method in the Method Resolution Order (MRO)** without naming the parent class explicitly. This supports **cooperative inheritance** (especially with multiple inheritance).\n",
        "\n",
        "- `super()` is not “the parent class”; it’s *the next method in the MRO chain*.\n",
        "- Prefer `super()` over hard-coding a parent class name to keep code flexible and correct in complex hierarchies.\n",
        "- View MRO with `ClassName.__mro__`."
      ]
    },
    {
      "cell_type": "code",
      "execution_count": 4,
      "id": "8830b1ab",
      "metadata": {},
      "outputs": [
        {
          "name": "stdout",
          "output_type": "stream",
          "text": [
            "(<class '__main__.C'>, <class '__main__.B'>, <class '__main__.A'>, <class 'object'>)\n",
            "[<class '__main__.C'>, <class '__main__.B'>, <class '__main__.A'>, <class 'object'>]\n"
          ]
        }
      ],
      "source": [
        "class A: pass\n",
        "class B(A): pass\n",
        "class C(B): pass\n",
        "print(C.__mro__)  # shows the MRO (search order)\n",
        "print(C.mro())"
      ]
    },
    {
      "cell_type": "markdown",
      "id": "5e87fd07",
      "metadata": {},
      "source": [
        "## 8. Multi-level inheritance — all share & override methods, calling parent & grandparent\n",
        "When a class hierarchy has more than one level, Python searches for methods following the **Method Resolution Order (MRO)**: `Child → Parent → Grandparent → object`.\n",
        "\n",
        "Below, all three define **the same method** (`greet`) and **each also has a unique method**. `Parent` also **overrides** `legacy` from `Grandparent`. The `Child` will:\n",
        "- override `greet`\n",
        "- call the **parent’s** `greet` (which itself overrides the grandparent)\n",
        "- call the **grandparent’s** `greet` directly\n",
        "- call a **parent-only** method and a **grandparent-only** method\n",
        "- call the **parent’s overridden** `legacy` and then the **grandparent’s original** `legacy`"
      ]
    },
    {
      "cell_type": "code",
      "execution_count": null,
      "id": "d53a67bd",
      "metadata": {},
      "outputs": [],
      "source": [
        "class Grandparent:\n",
        "    def greet(self):\n",
        "        print(\"👴 Grandparent says hello!\")\n",
        "    def history(self):\n",
        "        print(\"📜 Grandparent shares family history\")\n",
        "    def legacy(self):\n",
        "        print(\"💰 Grandparent passes legacy\")\n",
        "\n",
        "class Parent(Grandparent):\n",
        "    def greet(self):\n",
        "        print(\"👨 Parent says hello!\")  # overrides grandparent's greet\n",
        "    def advice(self):\n",
        "        print(\"🧭 Parent gives life advice\")\n",
        "    def legacy(self):\n",
        "        print(\"🏦 Parent updates the family legacy\")  # overrides legacy\n",
        "\n",
        "class Child(Parent):\n",
        "    def greet(self):\n",
        "        print(\"🧒 Child says hello!\")\n",
        "        # Call parent's greet() (which overrides grandparent)\n",
        "        super().greet()\n",
        "        # Call grandparent greet() directly (skip parent)\n",
        "        Grandparent.greet(self)\n",
        "    def play(self):\n",
        "        print(\"🎮 Child is playing\")\n",
        "    def reflect(self):\n",
        "        print(\"💭 Child reflects on family lessons\")\n",
        "        # Call parent-only method\n",
        "        super().advice()\n",
        "        # Call parent's overridden legacy (cooperative path)\n",
        "        super().legacy()\n",
        "        # Call grandparent's original legacy explicitly\n",
        "        Grandparent.legacy(self)\n",
        "\n",
        "c = Child()\n",
        "c.greet()\n",
        "print(\"---\")\n",
        "c.reflect()"
      ]
    },
    {
      "cell_type": "markdown",
      "id": "dbaf650d",
      "metadata": {},
      "source": [
        "### ✏️ Exercise 7 — Three-level hierarchy practice\n",
        "Build a hierarchy of `Device → Phone → SmartPhone` with this behavior:\n",
        "1. All define `describe()`, each with a unique message.\n",
        "2. `Phone` overrides and **enhances** `Device.describe()` (e.g., prints its own message then calls `super().describe()`).\n",
        "3. `SmartPhone` overrides and:\n",
        "   - Prints its own message\n",
        "   - Calls the **parent’s** `describe()` (`super().describe()`)\n",
        "   - Then calls the **grandparent’s** version **explicitly** (`Device.describe(self)`).\n",
        "4. Add a unique method at each level (e.g., `power_on()`, `dial()`, `install_app()`) and demonstrate them."
      ]
    },
    {
      "cell_type": "code",
      "execution_count": null,
      "id": "1185a2bc",
      "metadata": {},
      "outputs": [],
      "source": [
        "# TODO: Implement Device, Phone, SmartPhone per the spec above\n",
        "class Device:\n",
        "    def describe(self):\n",
        "        print(\"💻 Device: Basic computing hardware.\")\n",
        "    def power_on(self):\n",
        "        print(\"🔌 Device powering on...\")\n",
        "\n",
        "class Phone(Device):\n",
        "    def describe(self):\n",
        "        print(\"📞 Phone: Can make calls.\")\n",
        "        super().describe()\n",
        "    def dial(self):\n",
        "        print(\"📲 Dialing...\")\n",
        "\n",
        "class SmartPhone(Phone):\n",
        "    def describe(self):\n",
        "        print(\"📱 SmartPhone: A modern device.\")\n",
        "        super().describe()\n",
        "        Device.describe(self)  # explicit grandparent call\n",
        "    def install_app(self, name):\n",
        "        print(f\"⬇️ Installing {name}...\")\n",
        "\n",
        "# Uncomment to test\n",
        "# s = SmartPhone()\n",
        "# s.describe()\n",
        "# s.power_on(); s.dial(); s.install_app(\"Notes\")"
      ]
    },
    {
      "cell_type": "markdown",
      "id": "a2927755",
      "metadata": {},
      "source": [
        "## 9. Understanding `type()` vs `isinstance()` — Class Type vs Inheritance Relationships\n",
        "\n",
        "When a subclass is created, each object made from it is of that subclass’s **type**, but it is also an **instance** of every ancestor in its inheritance chain.\n",
        "\n",
        "In other words, a `Child` object is recognized as a `Child`, a `Parent`, and a `Grandparent` at the same time — just like a real child is still part of their parent’s and grandparent’s family lines.\n",
        "\n",
        "### 🧱 Example\n",
        "```python\n",
        "class Grandparent:\n",
        "    pass\n",
        "\n",
        "class Parent(Grandparent):\n",
        "    pass\n",
        "\n",
        "class Child(Parent):\n",
        "    pass\n",
        "\n",
        "c = Child()\n",
        "\n",
        "print(type(c))                     # <class '__main__.Child'>\n",
        "print(isinstance(c, Child))        # True\n",
        "print(isinstance(c, Parent))       # True\n",
        "print(isinstance(c, Grandparent))  # True\n",
        "```\n",
        "\n",
        "### 🧠 Explanation\n",
        "| Function | What it checks | Example |\n",
        "|-----------|----------------|----------|\n",
        "| `type(obj)` | Exact class of object | `type(c)` → `Child` |\n",
        "| `isinstance(obj, Class)` | Whether `obj` is an instance of `Class` **or any of its subclasses** | `isinstance(c, Grandparent)` → True |\n",
        "\n",
        "### ✅ Key Takeaway\n",
        "> A subclass instance \"is-a\" member of every superclass above it.  \n",
        "That’s the essence of inheritance — shared identity along the hierarchy.\n",
        "\n",
        "```\n",
        "Child ⊆ Parent ⊆ Grandparent\n",
        "```\n",
        "\n",
        "or in words: *Every Child is a Parent and a Grandparent too.*"
      ]
    },
    {
      "cell_type": "markdown",
      "id": "5ffe26e2",
      "metadata": {},
      "source": [
        "## ✅ Summary\n",
        "| Concept | Core idea | Example |\n",
        "|---|---|---|\n",
        "| Inheritance | Reuse parent code in a child class | `class Student(Person)` |\n",
        "| Constructor rules | No `__init__` → use parent’s and pass parent args; Own `__init__` → call `super().__init__` and accept child args | `Student(name, student_id)` |\n",
        "| Overriding | Replace parent behavior | `Dog.speak()` |\n",
        "| Extending via `super()` | Call the parent then add your logic | `SavingsAccount.withdraw()` calls `super()` |\n",
        "| Polymorphism | Same interface, different behavior | `for a in animals: a.speak()` |\n",
        "| MRO & `super()` | `super()` finds the next method in the MRO | `Class.__mro__` to inspect order |\n",
        "\n",
        "> **Mental model:** `super()` isn’t \"the parent\" — it’s the **next stop** in the method resolution order. If everyone cooperates and calls `super()`, the whole family (parent, grandparent, etc.) gets a turn."
      ]
    }
  ],
  "metadata": {
    "kernelspec": {
      "display_name": "base",
      "language": "python",
      "name": "python3"
    },
    "language_info": {
      "codemirror_mode": {
        "name": "ipython",
        "version": 3
      },
      "file_extension": ".py",
      "mimetype": "text/x-python",
      "name": "python",
      "nbconvert_exporter": "python",
      "pygments_lexer": "ipython3",
      "version": "3.13.5"
    }
  },
  "nbformat": 4,
  "nbformat_minor": 5
}
